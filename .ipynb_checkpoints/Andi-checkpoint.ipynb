{
 "cells": [
  {
   "cell_type": "code",
   "execution_count": 218,
   "metadata": {},
   "outputs": [],
   "source": [
    "import sys\n",
    "import os\n",
    "import numpy as np\n",
    "import pandas as pd\n",
    "import andi\n",
    "np.random.seed(2021)"
   ]
  },
  {
   "cell_type": "code",
   "execution_count": 219,
   "metadata": {},
   "outputs": [
    {
     "name": "stdout",
     "output_type": "stream",
     "text": [
      "Creating a dataset for task(s) [2] and dimension(s) [2].\n",
      "Generating dataset for dimension 2.\n"
     ]
    },
    {
     "name": "stderr",
     "output_type": "stream",
     "text": [
      "c:\\users\\15051\\appdata\\local\\programs\\python\\python38\\lib\\site-packages\\fbm\\fbm.py:171: UserWarning: Combination of increments n and Hurst value H invalid for Davies-Harte method. Reverting to Hosking method. Occurs when n is small and Hurst is close to 1. \n",
      "  warnings.warn(\n"
     ]
    }
   ],
   "source": [
    "N = 25\n",
    "dimensions = 2\n",
    "min_T = 999\n",
    "max_T = 1000\n",
    "AD = andi.andi_datasets()\n",
    "X1, Y1, X2, Y2, X3, Y3 = AD.andi_dataset(N=N, min_T=min_T,max_T=max_T, tasks=[2], dimensions=[dimensions], save_dataset=False)"
   ]
  },
  {
   "cell_type": "code",
   "execution_count": 216,
   "metadata": {},
   "outputs": [
    {
     "name": "stdout",
     "output_type": "stream",
     "text": [
      "(25, 1998)\n",
      "[0.0, 0.0, 2.0, 2.0, 4.0, 4.0, 0.0, 1.0, 4.0, 2.0, 1.0, 3.0, 3.0, 1.0, 4.0, 3.0, 4.0, 1.0, 1.0, 2.0, 2.0, 0.0, 3.0, 3.0, 0.0]\n"
     ]
    }
   ],
   "source": [
    "print(np.array(X2[1]).shape)\n",
    "print(Y2[1])\n",
    "\n",
    "x = X2[1]\n",
    "y = Y2[1]\n",
    "\n",
    "x = np.array(x).reshape(25,2,999)\n",
    "train_x = np.zeros((25,999,2))\n",
    "for i in range(len(x)):\n",
    "    train_x[i] = x[i].T\n",
    "\n",
    "train_y = np.array(y)\n",
    "\n",
    "np.save('./dataset/andi_train_x', train_x)\n",
    "np.save('./dataset/andi_train_y', train_y)"
   ]
  },
  {
   "cell_type": "code",
   "execution_count": 228,
   "metadata": {},
   "outputs": [
    {
     "name": "stdout",
     "output_type": "stream",
     "text": [
      "Creating a dataset for task(s) [2] and dimension(s) [2].\n",
      "Generating dataset for dimension 2.\n"
     ]
    },
    {
     "name": "stderr",
     "output_type": "stream",
     "text": [
      "c:\\users\\15051\\appdata\\local\\programs\\python\\python38\\lib\\site-packages\\andi\\diffusion_models.py:189: RuntimeWarning: overflow encountered in power\n",
      "  dt = (1-np.random.rand(T))**(-1/sigma)\n"
     ]
    }
   ],
   "source": [
    "N = 1000\n",
    "X1, Y1, X2, Y2, X3, Y3 = AD.andi_dataset(N=N, min_T=min_T,max_T=max_T, tasks=[2], dimensions=[dimensions], save_dataset=False)"
   ]
  },
  {
   "cell_type": "code",
   "execution_count": 234,
   "metadata": {},
   "outputs": [],
   "source": [
    "x = X2[1]\n",
    "y = Y2[1]\n",
    "\n",
    "x = np.array(x).reshape(1000,2,999)\n",
    "test_x = np.zeros((1000,999,2))\n",
    "for i in range(len(x)):\n",
    "    test_x[i] = x[i].T\n",
    "\n",
    "test_y = np.array(y)\n",
    "\n",
    "np.save('./dataset/andi_test_x', test_x)\n",
    "np.save('./dataseandi_test_y', test_y)"
   ]
  }
 ],
 "metadata": {
  "kernelspec": {
   "display_name": "Python 3",
   "language": "python",
   "name": "python3"
  },
  "language_info": {
   "codemirror_mode": {
    "name": "ipython",
    "version": 3
   },
   "file_extension": ".py",
   "mimetype": "text/x-python",
   "name": "python",
   "nbconvert_exporter": "python",
   "pygments_lexer": "ipython3",
   "version": "3.8.2"
  }
 },
 "nbformat": 4,
 "nbformat_minor": 4
}

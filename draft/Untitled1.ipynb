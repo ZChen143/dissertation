{
 "cells": [
  {
   "cell_type": "code",
   "execution_count": 78,
   "metadata": {},
   "outputs": [
    {
     "name": "stdout",
     "output_type": "stream",
     "text": [
      "Num GPUs Available:  1\n"
     ]
    }
   ],
   "source": [
    "import os\n",
    "import sys\n",
    "import tensorflow as tf\n",
    "import pandas as pd\n",
    "from sklearn.metrics import confusion_matrix\n",
    "from sklearn import preprocessing\n",
    "\n",
    "from andi_funcs import TrackGeneratorClassification, import_tracks, import_labels, package_tracks\n",
    "from models import classification_model_2d\n",
    "from tensorflow.keras.optimizers import Adam\n",
    "from tensorflow.keras.callbacks import ModelCheckpoint\n",
    "from tensorflow.keras.models import load_model\n",
    "import numpy as np\n",
    "\n",
    "tf.config.set_soft_device_placement(True)\n",
    "print(\"Num GPUs Available: \", len(tf.config.experimental.list_physical_devices('GPU')))\n",
    "# Load validation data\n",
    "\n",
    "train_x = np.load('./dataset/tracks.npy')\n",
    "train_y = np.load('labels.npy')\n",
    "shuffle_indices = np.random.permutation(int(len(train_y)))\n",
    "\n"
   ]
  },
  {
   "cell_type": "code",
   "execution_count": 45,
   "metadata": {},
   "outputs": [],
   "source": [
    "train_x_shuffled = train_x[shuffle_indices]\n",
    "train_y_shuffled = train_y[shuffle_indices]\n",
    "\n",
    "indices_train = np.random.permutation(int(len(train_y)*0.8))\n",
    "indices_val = np.random.permutation(int(len(train_y)*0.15)) + indices_train.max() + 1\n",
    "indices_test = np.random.permutation(int(len(train_y)*0.05)) + indices_val.max() + 1"
   ]
  },
  {
   "cell_type": "code",
   "execution_count": 64,
   "metadata": {},
   "outputs": [],
   "source": [
    "train_x = train_x_shuffled[indices_train]\n",
    "train_y = train_y_shuffled[indices_train]\n",
    "val_x = train_x_shuffled[indices_val]\n",
    "val_y = train_y_shuffled[indices_val]"
   ]
  },
  {
   "cell_type": "code",
   "execution_count": 72,
   "metadata": {},
   "outputs": [
    {
     "name": "stdout",
     "output_type": "stream",
     "text": [
      "Model: \"model_3\"\n",
      "__________________________________________________________________________________________________\n",
      "Layer (type)                    Output Shape         Param #     Connected to                     \n",
      "==================================================================================================\n",
      "input_3 (InputLayer)            [(None, None, 2)]    0                                            \n",
      "__________________________________________________________________________________________________\n",
      "tf.reverse_1 (TFOpLambda)       (None, None, 2)      0           input_3[0][0]                    \n",
      "__________________________________________________________________________________________________\n",
      "model_2 (Functional)            (None, None, 256)    241792      input_3[0][0]                    \n",
      "                                                                 tf.reverse_1[0][0]               \n",
      "__________________________________________________________________________________________________\n",
      "global_max_pooling1d_2 (GlobalM (None, 256)          0           model_2[0][0]                    \n",
      "__________________________________________________________________________________________________\n",
      "global_max_pooling1d_3 (GlobalM (None, 256)          0           model_2[1][0]                    \n",
      "__________________________________________________________________________________________________\n",
      "tf.math.maximum_1 (TFOpLambda)  (None, 256)          0           global_max_pooling1d_2[0][0]     \n",
      "                                                                 global_max_pooling1d_3[0][0]     \n",
      "__________________________________________________________________________________________________\n",
      "dense_3 (Dense)                 (None, 512)          131584      tf.math.maximum_1[0][0]          \n",
      "__________________________________________________________________________________________________\n",
      "dense_4 (Dense)                 (None, 256)          131328      dense_3[0][0]                    \n",
      "__________________________________________________________________________________________________\n",
      "dense_5 (Dense)                 (None, 3)            771         dense_4[0][0]                    \n",
      "==================================================================================================\n",
      "Total params: 505,475\n",
      "Trainable params: 503,427\n",
      "Non-trainable params: 2,048\n",
      "__________________________________________________________________________________________________\n"
     ]
    }
   ],
   "source": [
    "model = classification_model_2d()\n",
    "model.compile(optimizer=Adam(learning_rate=0.001), loss='sparse_categorical_crossentropy', metrics=['accuracy'])\n",
    "model.summary()"
   ]
  },
  {
   "cell_type": "code",
   "execution_count": 73,
   "metadata": {},
   "outputs": [
    {
     "name": "stdout",
     "output_type": "stream",
     "text": [
      "938/938 [==============================] - 152s 155ms/step - loss: 0.1820 - accuracy: 0.9560 - val_loss: 0.0263 - val_accuracy: 0.9900\n"
     ]
    }
   ],
   "source": [
    "history = model.fit(train_x_shuffled,train_y_shuffled, validation_data=(val_x, val_y),\n",
    "          use_multiprocessing=True, workers=8)\n"
   ]
  },
  {
   "cell_type": "code",
   "execution_count": 74,
   "metadata": {},
   "outputs": [
    {
     "data": {
      "text/plain": [
       "[0.9559666514396667]"
      ]
     },
     "execution_count": 74,
     "metadata": {},
     "output_type": "execute_result"
    }
   ],
   "source": [
    "history.history['accuracy']"
   ]
  },
  {
   "cell_type": "code",
   "execution_count": 3,
   "metadata": {},
   "outputs": [
    {
     "ename": "NameError",
     "evalue": "name 'model' is not defined",
     "output_type": "error",
     "traceback": [
      "\u001b[1;31m---------------------------------------------------------------------------\u001b[0m",
      "\u001b[1;31mNameError\u001b[0m                                 Traceback (most recent call last)",
      "\u001b[1;32m<ipython-input-3-69c85f116b2d>\u001b[0m in \u001b[0;36m<module>\u001b[1;34m\u001b[0m\n\u001b[1;32m----> 1\u001b[1;33m \u001b[0mmodel\u001b[0m\u001b[1;33m.\u001b[0m\u001b[0msave\u001b[0m\u001b[1;33m(\u001b[0m\u001b[1;34m'./model/model.h5'\u001b[0m\u001b[1;33m)\u001b[0m\u001b[1;33m\u001b[0m\u001b[1;33m\u001b[0m\u001b[0m\n\u001b[0m",
      "\u001b[1;31mNameError\u001b[0m: name 'model' is not defined"
     ]
    }
   ],
   "source": [
    "model.save('./model/model.h5')"
   ]
  },
  {
   "cell_type": "code",
   "execution_count": 7,
   "metadata": {},
   "outputs": [],
   "source": [
    "model.load_weights('./model/model.h5')"
   ]
  },
  {
   "cell_type": "code",
   "execution_count": 18,
   "metadata": {},
   "outputs": [
    {
     "name": "stdout",
     "output_type": "stream",
     "text": [
      "columns: 11 \n",
      "rows: 999\n"
     ]
    }
   ],
   "source": [
    "swimmers = pd.read_csv('./dataset/swimmers1um.csv')\n",
    "\n",
    "col = swimmers.iloc[0, :].size\n",
    "row = swimmers.iloc[:, 0].size\n",
    "print('columns: %d \\nrows: %d' %(col, row))\n",
    "\n",
    "list_dataset = []\n",
    "\n",
    "for i in range(1, int((col+1)/2)):\n",
    "    X = [] # clear X\n",
    "    X.append(preprocessing.minmax_scale(swimmers.iloc[:, i*2-1]))# X\n",
    "    X.append(preprocessing.minmax_scale(swimmers.iloc[:, i*2]))# Y\n",
    "    list_dataset.append(np.array(X).T)\n",
    "\n",
    "x = np.array(list_dataset).reshape(5, 999, 2)\n"
   ]
  },
  {
   "cell_type": "code",
   "execution_count": 174,
   "metadata": {},
   "outputs": [],
   "source": [
    "result = model.predict(train_x_shuffled[indices_test])\n",
    "y = result.round(0)"
   ]
  },
  {
   "cell_type": "code",
   "execution_count": 175,
   "metadata": {},
   "outputs": [],
   "source": [
    "np.savetxt('result.txt', y)"
   ]
  }
 ],
 "metadata": {
  "kernelspec": {
   "display_name": "Python 3",
   "language": "python",
   "name": "python3"
  },
  "language_info": {
   "codemirror_mode": {
    "name": "ipython",
    "version": 3
   },
   "file_extension": ".py",
   "mimetype": "text/x-python",
   "name": "python",
   "nbconvert_exporter": "python",
   "pygments_lexer": "ipython3",
   "version": "3.8.2"
  }
 },
 "nbformat": 4,
 "nbformat_minor": 4
}
